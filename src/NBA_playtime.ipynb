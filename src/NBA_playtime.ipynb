{
 "cells": [
  {
   "cell_type": "code",
   "execution_count": 56,
   "metadata": {},
   "outputs": [],
   "source": [
    "import requests\n",
    "import json\n",
    "from bs4 import BeautifulSoup\n",
    "import pandas as pd\n",
    "from collections import defaultdict\n",
    "import csv\n",
    "from itertools import permutations\n",
    "import matplotlib.pyplot as plt\n",
    "import networkx as nx\n",
    "import warnings\n",
    "\n",
    "warnings.filterwarnings('ignore')\n",
    "pd.set_option('display.max_columns', None)\n",
    "pd.set_option('display.max_rows', None)"
   ]
  },
  {
   "cell_type": "code",
   "execution_count": 57,
   "metadata": {
    "scrolled": false
   },
   "outputs": [],
   "source": [
    "df = pd.read_csv('events_2015-2016_pbp.csv')\n",
    "id_df = pd.read_csv('playerlist.csv')\n",
    "del id_df['Unnamed: 0']"
   ]
  },
  {
   "cell_type": "code",
   "execution_count": 58,
   "metadata": {},
   "outputs": [],
   "source": [
    "teams = {'CLE':'Cavaliers', 'TOR':'Raptors', 'MIA':'Heat', 'ATL':'Hawks', 'BOS': 'Celtics', 'CHO':'Hornets',\n",
    "        'IND':'Pacers', 'DET': 'Pistons', 'CHI':'Bulls', 'WAS':'Wizards','ORL':'Magic', 'NYK':'Knicks',\n",
    "        'BRK':'Nets', 'GSW':'Warriors', 'SAS':'Spurs', 'OKC':'Thunder', 'LAC':'Clippers', 'POR':'Blazers',\n",
    "        'DAL':'Mavericks', 'MEM':'Grizzlies', 'HOU':'Rockets', 'UTA':'Jazz', 'SAC':'Kings', 'DEN':'Nuggets', \n",
    "        'NOP':'Pelicans', 'MIN':'Timberwolves', 'PHO':'Suns', 'LAL':'Lakers', 'MIL':'Bucks', 'PHI':'76ers'}"
   ]
  },
  {
   "cell_type": "code",
   "execution_count": 59,
   "metadata": {
    "scrolled": true
   },
   "outputs": [
    {
     "data": {
      "text/plain": [
       "Index(['Unnamed: 0', 'EVENTMSGACTIONTYPE', 'EVENTMSGTYPE', 'EVENTNUM',\n",
       "       'GAME_ID', 'HOMEDESCRIPTION', 'NEUTRALDESCRIPTION', 'PCTIMESTRING',\n",
       "       'PERIOD', 'PERSON1TYPE',\n",
       "       ...\n",
       "       'HOME_PLAYER_ID_1_PLAY_TIME', 'HOME_PLAYER_ID_2_PLAY_TIME',\n",
       "       'HOME_PLAYER_ID_3_PLAY_TIME', 'HOME_PLAYER_ID_4_PLAY_TIME',\n",
       "       'HOME_PLAYER_ID_5_PLAY_TIME', 'AWAY_PLAYER_ID_1_PLAY_TIME',\n",
       "       'AWAY_PLAYER_ID_2_PLAY_TIME', 'AWAY_PLAYER_ID_3_PLAY_TIME',\n",
       "       'AWAY_PLAYER_ID_4_PLAY_TIME', 'AWAY_PLAYER_ID_5_PLAY_TIME'],\n",
       "      dtype='object', length=111)"
      ]
     },
     "execution_count": 59,
     "metadata": {},
     "output_type": "execute_result"
    }
   ],
   "source": [
    "df.columns"
   ]
  },
  {
   "cell_type": "code",
   "execution_count": 60,
   "metadata": {},
   "outputs": [
    {
     "data": {
      "text/plain": [
       "Index(['DISPLAY_FIRST_LAST', 'DISPLAY_LAST_COMMA_FIRST', 'FROM_YEAR',\n",
       "       'GAMES_PLAYED_FLAG', 'OTHERLEAGUE_EXPERIENCE_CH', 'PERSON_ID',\n",
       "       'PLAYERCODE', 'ROSTERSTATUS', 'TEAM_ABBREVIATION', 'TEAM_CITY',\n",
       "       'TEAM_CODE', 'TEAM_ID', 'TEAM_NAME', 'TO_YEAR'],\n",
       "      dtype='object')"
      ]
     },
     "execution_count": 60,
     "metadata": {},
     "output_type": "execute_result"
    }
   ],
   "source": [
    "id_df.columns"
   ]
  },
  {
   "cell_type": "markdown",
   "metadata": {},
   "source": [
    "# 1 Game Exploration"
   ]
  },
  {
   "cell_type": "code",
   "execution_count": 61,
   "metadata": {},
   "outputs": [],
   "source": [
    "subset = df.loc[df.GAME_ID == 21500001]\n",
    "subset = subset[['GAME_ID','HOMEDESCRIPTION', 'VISITORDESCRIPTION','PCTIMESTRING', 'PERIOD', 'HOME_TEAM', 'AWAY_TEAM',\n",
    "                'HOME_PLAYER_ID_1','HOME_PLAYER_ID_2', 'HOME_PLAYER_ID_3','HOME_PLAYER_ID_4','HOME_PLAYER_ID_5']]\n",
    "#              ,'AWAY_PLAYER_ID_1','AWAY_PLAYER_ID_2', 'AWAY_PLAYER_ID_3','AWAY_PLAYER_ID_4','AWAY_PLAYER_ID_5']]"
   ]
  },
  {
   "cell_type": "code",
   "execution_count": 62,
   "metadata": {},
   "outputs": [],
   "source": [
    "subset['PCTIMESTRING'] = subset['PCTIMESTRING'].str.split(\":\").apply(lambda x: int(x[0])*60 + int(x[1]))"
   ]
  },
  {
   "cell_type": "code",
   "execution_count": 63,
   "metadata": {},
   "outputs": [],
   "source": [
    "subs = subset[subset['HOMEDESCRIPTION'].shift(-1).str.contains('SUB', na=False) |\n",
    "       subset['HOMEDESCRIPTION'].str.contains('SUB', na=False)]\n",
    "test = subs[~subs['HOMEDESCRIPTION'].str.contains('SUB', na=False)]"
   ]
  },
  {
   "cell_type": "markdown",
   "metadata": {},
   "source": [
    "### Mutual Play Time\n",
    "- iterate over rows that come *before sub \n",
    "- grab 5 playerids and subtract time from quarter standing\n",
    "- create edgelist between players\n"
   ]
  },
  {
   "cell_type": "code",
   "execution_count": 64,
   "metadata": {},
   "outputs": [],
   "source": [
    "edge_list = []\n",
    "\n",
    "curr_seconds = 720\n",
    "curr_period = 1\n",
    "for row in test.itertuples():\n",
    "    if row.PERIOD > curr_period:\n",
    "        curr_period = row.PERIOD \n",
    "        curr_seconds = 720 \n",
    "        \n",
    "    mutual_time = curr_seconds - row.PCTIMESTRING\n",
    "    for p1 in range(8,13):\n",
    "        for p2 in range(p1+1, 13):\n",
    "            mutual_mins = round((curr_seconds - row.PCTIMESTRING)/60, 2)\n",
    "            edge_list.append([sorted([row[p1], row[p2]])[0], sorted([row[p1], row[p2]])[1] ,mutual_mins])\n",
    "#             print([sorted([row[p1], row[p2]])[0], sorted([row[p1], row[p2]])[1] ,mutual_mins])\n",
    "    curr_seconds = row.PCTIMESTRING"
   ]
  },
  {
   "cell_type": "code",
   "execution_count": 65,
   "metadata": {
    "scrolled": true
   },
   "outputs": [
    {
     "data": {
      "text/html": [
       "<div>\n",
       "<style scoped>\n",
       "    .dataframe tbody tr th:only-of-type {\n",
       "        vertical-align: middle;\n",
       "    }\n",
       "\n",
       "    .dataframe tbody tr th {\n",
       "        vertical-align: top;\n",
       "    }\n",
       "\n",
       "    .dataframe thead th {\n",
       "        text-align: right;\n",
       "    }\n",
       "</style>\n",
       "<table border=\"1\" class=\"dataframe\">\n",
       "  <thead>\n",
       "    <tr style=\"text-align: right;\">\n",
       "      <th></th>\n",
       "      <th>P1</th>\n",
       "      <th>P2</th>\n",
       "      <th>MutualTime</th>\n",
       "    </tr>\n",
       "  </thead>\n",
       "  <tbody>\n",
       "    <tr>\n",
       "      <th>0</th>\n",
       "      <td>2594</td>\n",
       "      <td>200757</td>\n",
       "      <td>5.66</td>\n",
       "    </tr>\n",
       "    <tr>\n",
       "      <th>1</th>\n",
       "      <td>2594</td>\n",
       "      <td>200794</td>\n",
       "      <td>17.70</td>\n",
       "    </tr>\n",
       "    <tr>\n",
       "      <th>2</th>\n",
       "      <td>2594</td>\n",
       "      <td>201143</td>\n",
       "      <td>15.13</td>\n",
       "    </tr>\n",
       "    <tr>\n",
       "      <th>3</th>\n",
       "      <td>2594</td>\n",
       "      <td>201168</td>\n",
       "      <td>5.33</td>\n",
       "    </tr>\n",
       "    <tr>\n",
       "      <th>4</th>\n",
       "      <td>2594</td>\n",
       "      <td>201952</td>\n",
       "      <td>20.93</td>\n",
       "    </tr>\n",
       "    <tr>\n",
       "      <th>5</th>\n",
       "      <td>2594</td>\n",
       "      <td>203118</td>\n",
       "      <td>3.45</td>\n",
       "    </tr>\n",
       "    <tr>\n",
       "      <th>6</th>\n",
       "      <td>2594</td>\n",
       "      <td>203145</td>\n",
       "      <td>14.80</td>\n",
       "    </tr>\n",
       "    <tr>\n",
       "      <th>7</th>\n",
       "      <td>2594</td>\n",
       "      <td>203471</td>\n",
       "      <td>6.43</td>\n",
       "    </tr>\n",
       "    <tr>\n",
       "      <th>8</th>\n",
       "      <td>2594</td>\n",
       "      <td>203488</td>\n",
       "      <td>6.21</td>\n",
       "    </tr>\n",
       "    <tr>\n",
       "      <th>9</th>\n",
       "      <td>200757</td>\n",
       "      <td>200794</td>\n",
       "      <td>12.29</td>\n",
       "    </tr>\n",
       "    <tr>\n",
       "      <th>10</th>\n",
       "      <td>200757</td>\n",
       "      <td>201143</td>\n",
       "      <td>2.31</td>\n",
       "    </tr>\n",
       "    <tr>\n",
       "      <th>11</th>\n",
       "      <td>200757</td>\n",
       "      <td>201168</td>\n",
       "      <td>16.30</td>\n",
       "    </tr>\n",
       "    <tr>\n",
       "      <th>12</th>\n",
       "      <td>200757</td>\n",
       "      <td>201952</td>\n",
       "      <td>9.55</td>\n",
       "    </tr>\n",
       "    <tr>\n",
       "      <th>13</th>\n",
       "      <td>200757</td>\n",
       "      <td>203471</td>\n",
       "      <td>10.60</td>\n",
       "    </tr>\n",
       "    <tr>\n",
       "      <th>14</th>\n",
       "      <td>200757</td>\n",
       "      <td>203488</td>\n",
       "      <td>2.36</td>\n",
       "    </tr>\n",
       "    <tr>\n",
       "      <th>15</th>\n",
       "      <td>200757</td>\n",
       "      <td>203934</td>\n",
       "      <td>7.45</td>\n",
       "    </tr>\n",
       "    <tr>\n",
       "      <th>16</th>\n",
       "      <td>200794</td>\n",
       "      <td>201143</td>\n",
       "      <td>10.95</td>\n",
       "    </tr>\n",
       "    <tr>\n",
       "      <th>17</th>\n",
       "      <td>200794</td>\n",
       "      <td>201168</td>\n",
       "      <td>12.29</td>\n",
       "    </tr>\n",
       "    <tr>\n",
       "      <th>18</th>\n",
       "      <td>200794</td>\n",
       "      <td>201952</td>\n",
       "      <td>21.59</td>\n",
       "    </tr>\n",
       "    <tr>\n",
       "      <th>19</th>\n",
       "      <td>200794</td>\n",
       "      <td>203118</td>\n",
       "      <td>3.45</td>\n",
       "    </tr>\n",
       "    <tr>\n",
       "      <th>20</th>\n",
       "      <td>200794</td>\n",
       "      <td>203145</td>\n",
       "      <td>10.95</td>\n",
       "    </tr>\n",
       "    <tr>\n",
       "      <th>21</th>\n",
       "      <td>200794</td>\n",
       "      <td>203471</td>\n",
       "      <td>12.07</td>\n",
       "    </tr>\n",
       "    <tr>\n",
       "      <th>22</th>\n",
       "      <td>200794</td>\n",
       "      <td>203488</td>\n",
       "      <td>0.00</td>\n",
       "    </tr>\n",
       "    <tr>\n",
       "      <th>23</th>\n",
       "      <td>200794</td>\n",
       "      <td>203934</td>\n",
       "      <td>5.47</td>\n",
       "    </tr>\n",
       "    <tr>\n",
       "      <th>24</th>\n",
       "      <td>201143</td>\n",
       "      <td>201168</td>\n",
       "      <td>1.98</td>\n",
       "    </tr>\n",
       "    <tr>\n",
       "      <th>25</th>\n",
       "      <td>201143</td>\n",
       "      <td>201952</td>\n",
       "      <td>12.15</td>\n",
       "    </tr>\n",
       "    <tr>\n",
       "      <th>26</th>\n",
       "      <td>201143</td>\n",
       "      <td>203118</td>\n",
       "      <td>2.03</td>\n",
       "    </tr>\n",
       "    <tr>\n",
       "      <th>27</th>\n",
       "      <td>201143</td>\n",
       "      <td>203145</td>\n",
       "      <td>18.56</td>\n",
       "    </tr>\n",
       "    <tr>\n",
       "      <th>28</th>\n",
       "      <td>201143</td>\n",
       "      <td>203471</td>\n",
       "      <td>8.72</td>\n",
       "    </tr>\n",
       "    <tr>\n",
       "      <th>29</th>\n",
       "      <td>201143</td>\n",
       "      <td>203488</td>\n",
       "      <td>5.91</td>\n",
       "    </tr>\n",
       "    <tr>\n",
       "      <th>30</th>\n",
       "      <td>201143</td>\n",
       "      <td>203934</td>\n",
       "      <td>5.74</td>\n",
       "    </tr>\n",
       "    <tr>\n",
       "      <th>31</th>\n",
       "      <td>201168</td>\n",
       "      <td>201952</td>\n",
       "      <td>9.22</td>\n",
       "    </tr>\n",
       "    <tr>\n",
       "      <th>32</th>\n",
       "      <td>201168</td>\n",
       "      <td>203471</td>\n",
       "      <td>10.60</td>\n",
       "    </tr>\n",
       "    <tr>\n",
       "      <th>33</th>\n",
       "      <td>201168</td>\n",
       "      <td>203488</td>\n",
       "      <td>2.03</td>\n",
       "    </tr>\n",
       "    <tr>\n",
       "      <th>34</th>\n",
       "      <td>201168</td>\n",
       "      <td>203934</td>\n",
       "      <td>7.45</td>\n",
       "    </tr>\n",
       "    <tr>\n",
       "      <th>35</th>\n",
       "      <td>201952</td>\n",
       "      <td>203118</td>\n",
       "      <td>3.45</td>\n",
       "    </tr>\n",
       "    <tr>\n",
       "      <th>36</th>\n",
       "      <td>201952</td>\n",
       "      <td>203145</td>\n",
       "      <td>11.82</td>\n",
       "    </tr>\n",
       "    <tr>\n",
       "      <th>37</th>\n",
       "      <td>201952</td>\n",
       "      <td>203471</td>\n",
       "      <td>6.97</td>\n",
       "    </tr>\n",
       "    <tr>\n",
       "      <th>38</th>\n",
       "      <td>201952</td>\n",
       "      <td>203488</td>\n",
       "      <td>3.23</td>\n",
       "    </tr>\n",
       "    <tr>\n",
       "      <th>39</th>\n",
       "      <td>201952</td>\n",
       "      <td>203934</td>\n",
       "      <td>0.37</td>\n",
       "    </tr>\n",
       "    <tr>\n",
       "      <th>40</th>\n",
       "      <td>203118</td>\n",
       "      <td>203145</td>\n",
       "      <td>2.03</td>\n",
       "    </tr>\n",
       "    <tr>\n",
       "      <th>41</th>\n",
       "      <td>203118</td>\n",
       "      <td>203471</td>\n",
       "      <td>5.48</td>\n",
       "    </tr>\n",
       "    <tr>\n",
       "      <th>42</th>\n",
       "      <td>203118</td>\n",
       "      <td>203934</td>\n",
       "      <td>2.03</td>\n",
       "    </tr>\n",
       "    <tr>\n",
       "      <th>43</th>\n",
       "      <td>203145</td>\n",
       "      <td>203471</td>\n",
       "      <td>6.74</td>\n",
       "    </tr>\n",
       "    <tr>\n",
       "      <th>44</th>\n",
       "      <td>203145</td>\n",
       "      <td>203488</td>\n",
       "      <td>5.58</td>\n",
       "    </tr>\n",
       "    <tr>\n",
       "      <th>45</th>\n",
       "      <td>203145</td>\n",
       "      <td>203934</td>\n",
       "      <td>3.76</td>\n",
       "    </tr>\n",
       "    <tr>\n",
       "      <th>46</th>\n",
       "      <td>203471</td>\n",
       "      <td>203488</td>\n",
       "      <td>4.71</td>\n",
       "    </tr>\n",
       "    <tr>\n",
       "      <th>47</th>\n",
       "      <td>203471</td>\n",
       "      <td>203934</td>\n",
       "      <td>10.84</td>\n",
       "    </tr>\n",
       "    <tr>\n",
       "      <th>48</th>\n",
       "      <td>203488</td>\n",
       "      <td>203934</td>\n",
       "      <td>1.73</td>\n",
       "    </tr>\n",
       "  </tbody>\n",
       "</table>\n",
       "</div>"
      ],
      "text/plain": [
       "        P1      P2  MutualTime\n",
       "0     2594  200757        5.66\n",
       "1     2594  200794       17.70\n",
       "2     2594  201143       15.13\n",
       "3     2594  201168        5.33\n",
       "4     2594  201952       20.93\n",
       "5     2594  203118        3.45\n",
       "6     2594  203145       14.80\n",
       "7     2594  203471        6.43\n",
       "8     2594  203488        6.21\n",
       "9   200757  200794       12.29\n",
       "10  200757  201143        2.31\n",
       "11  200757  201168       16.30\n",
       "12  200757  201952        9.55\n",
       "13  200757  203471       10.60\n",
       "14  200757  203488        2.36\n",
       "15  200757  203934        7.45\n",
       "16  200794  201143       10.95\n",
       "17  200794  201168       12.29\n",
       "18  200794  201952       21.59\n",
       "19  200794  203118        3.45\n",
       "20  200794  203145       10.95\n",
       "21  200794  203471       12.07\n",
       "22  200794  203488        0.00\n",
       "23  200794  203934        5.47\n",
       "24  201143  201168        1.98\n",
       "25  201143  201952       12.15\n",
       "26  201143  203118        2.03\n",
       "27  201143  203145       18.56\n",
       "28  201143  203471        8.72\n",
       "29  201143  203488        5.91\n",
       "30  201143  203934        5.74\n",
       "31  201168  201952        9.22\n",
       "32  201168  203471       10.60\n",
       "33  201168  203488        2.03\n",
       "34  201168  203934        7.45\n",
       "35  201952  203118        3.45\n",
       "36  201952  203145       11.82\n",
       "37  201952  203471        6.97\n",
       "38  201952  203488        3.23\n",
       "39  201952  203934        0.37\n",
       "40  203118  203145        2.03\n",
       "41  203118  203471        5.48\n",
       "42  203118  203934        2.03\n",
       "43  203145  203471        6.74\n",
       "44  203145  203488        5.58\n",
       "45  203145  203934        3.76\n",
       "46  203471  203488        4.71\n",
       "47  203471  203934       10.84\n",
       "48  203488  203934        1.73"
      ]
     },
     "execution_count": 65,
     "metadata": {},
     "output_type": "execute_result"
    }
   ],
   "source": [
    "edges = pd.DataFrame(edge_list)\n",
    "edges.columns =['P1', 'P2', 'MutualTime'] \n",
    "edges.groupby(['P1','P2']).sum().reset_index()"
   ]
  },
  {
   "cell_type": "code",
   "execution_count": 66,
   "metadata": {},
   "outputs": [],
   "source": [
    "edges['P1'] = edges['P1'].apply(lambda x: id_df.loc[id_df['PERSON_ID'] == x].DISPLAY_FIRST_LAST.item())\n",
    "edges['P2'] = edges['P2'].apply(lambda x: id_df.loc[id_df['PERSON_ID'] == x].DISPLAY_FIRST_LAST.item())"
   ]
  },
  {
   "cell_type": "code",
   "execution_count": 67,
   "metadata": {},
   "outputs": [],
   "source": [
    "G=nx.from_pandas_edgelist(edges, 'P1', 'P2', ['MutualTime'])"
   ]
  },
  {
   "cell_type": "code",
   "execution_count": 68,
   "metadata": {},
   "outputs": [],
   "source": [
    "edge,weights = zip(*nx.get_edge_attributes(G,'MutualTime').items())"
   ]
  },
  {
   "cell_type": "code",
   "execution_count": 69,
   "metadata": {
    "scrolled": true
   },
   "outputs": [
    {
     "data": {
      "image/png": "[encoded data removed]",
      "text/plain": [
       "<Figure size 432x288 with 1 Axes>"
      ]
     },
     "metadata": {},
     "output_type": "display_data"
    }
   ],
   "source": [
    "pos = nx.spring_layout(G)\n",
    "nx.draw(G,with_labels=True, node_color='yellow', edge_color=weights, width=2, edge_cmap=plt.cm.Greys)"
   ]
  },
  {
   "cell_type": "markdown",
   "metadata": {},
   "source": [
    "# 1 Team Exploration\n",
    "- Warriors 2016"
   ]
  },
  {
   "cell_type": "code",
   "execution_count": 70,
   "metadata": {},
   "outputs": [],
   "source": [
    "players = pd.read_csv('NBA_Players_2016.csv')"
   ]
  },
  {
   "cell_type": "code",
   "execution_count": 71,
   "metadata": {},
   "outputs": [],
   "source": [
    "subset = df.loc[df.HOME_TEAM.str.contains('Warriors') | df.AWAY_TEAM.str.contains('Warriors')]\n",
    "subset = subset[['GAME_ID','HOMEDESCRIPTION', 'VISITORDESCRIPTION','PCTIMESTRING', 'PERIOD', 'HOME_TEAM', 'AWAY_TEAM',\n",
    "                'HOME_PLAYER_ID_1','HOME_PLAYER_ID_2', 'HOME_PLAYER_ID_3','HOME_PLAYER_ID_4','HOME_PLAYER_ID_5'\n",
    "             ,'AWAY_PLAYER_ID_1','AWAY_PLAYER_ID_2', 'AWAY_PLAYER_ID_3','AWAY_PLAYER_ID_4','AWAY_PLAYER_ID_5']]"
   ]
  },
  {
   "cell_type": "code",
   "execution_count": 72,
   "metadata": {
    "scrolled": true
   },
   "outputs": [],
   "source": [
    "edge_list = []\n",
    "nums = 0\n",
    "for game_id in subset['GAME_ID'].unique():\n",
    "    boolean = False\n",
    "    \n",
    "    subs = subset.loc[df.GAME_ID == game_id]\n",
    "    pid = subs.iloc[0]['HOME_PLAYER_ID_1']\n",
    "    name = id_df.loc[id_df['PERSON_ID'] == pid].DISPLAY_FIRST_LAST.item()\n",
    "    home_teams = list(players.loc[players['name'] == name].team.values) \n",
    "    for i in range(len(home_teams)):\n",
    "        home_teams[i] = teams[home_teams[i]]\n",
    "    boolean = 'Warriors' in home_teams\n",
    "\n",
    "    \n",
    "    if boolean==True:\n",
    "        new = subs[['HOMEDESCRIPTION', 'PCTIMESTRING', 'PERIOD', 'HOME_TEAM', 'HOME_PLAYER_ID_1',\n",
    "                         'HOME_PLAYER_ID_2', 'HOME_PLAYER_ID_3', 'HOME_PLAYER_ID_4', 'HOME_PLAYER_ID_5']]\n",
    "        new['PCTIMESTRING'] = new['PCTIMESTRING'].str.split(\":\").apply(lambda x: int(x[0])*60 + int(x[1]))\n",
    "        new = new[new['HOMEDESCRIPTION'].shift(-1).str.contains('SUB', na=False) |\n",
    "           new['HOMEDESCRIPTION'].str.contains('SUB', na=False)]\n",
    "        new = new[~new['HOMEDESCRIPTION'].str.contains('SUB', na=False)]\n",
    "        \n",
    "        curr_seconds = 720\n",
    "        curr_period = 1\n",
    "        for row in new.itertuples():\n",
    "            if row.PERIOD > curr_period:\n",
    "                curr_period = row.PERIOD \n",
    "                curr_seconds = 720 \n",
    "            mutual_time = curr_seconds - row.PCTIMESTRING\n",
    "            for p1 in range(5,9):\n",
    "                for p2 in range(p1+1, 9):\n",
    "                    mutual_mins = round((curr_seconds - row.PCTIMESTRING)/60, 2)\n",
    "                    edge_list.append([sorted([row[p1], row[p2]])[0], sorted([row[p1], row[p2]])[1] ,mutual_mins])\n",
    "#                     print([sorted([row[p1], row[p2]])[0], sorted([row[p1], row[p2]])[1] ,mutual_mins])\n",
    "            curr_seconds = row.PCTIMESTRING\n",
    "#         print('\\n')\n",
    "\n",
    "    else:\n",
    "        new = subs[['VISITORDESCRIPTION', 'PCTIMESTRING', 'PERIOD', 'AWAY_TEAM', 'AWAY_PLAYER_ID_1',\n",
    "                         'AWAY_PLAYER_ID_2', 'AWAY_PLAYER_ID_3', 'AWAY_PLAYER_ID_4', 'AWAY_PLAYER_ID_5']]\n",
    "        new['PCTIMESTRING'] = new['PCTIMESTRING'].str.split(\":\").apply(lambda x: int(x[0])*60 + int(x[1]))\n",
    "        new = new[new['VISITORDESCRIPTION'].shift(-1).str.contains('SUB', na=False) |\n",
    "               new['VISITORDESCRIPTION'].str.contains('SUB', na=False)]\n",
    "        new = new[~new['VISITORDESCRIPTION'].str.contains('SUB', na=False)]\n",
    "        \n",
    "        curr_seconds = 720\n",
    "        curr_period = 1\n",
    "        for row in new.itertuples():\n",
    "            if row.PERIOD > curr_period:\n",
    "                curr_period = row.PERIOD \n",
    "                curr_seconds = 720 \n",
    "            mutual_time = curr_seconds - row.PCTIMESTRING\n",
    "            for p1 in range(5,9):\n",
    "                for p2 in range(p1+1, 9):\n",
    "                    mutual_mins = round((curr_seconds - row.PCTIMESTRING)/60, 2)\n",
    "                    edge_list.append([sorted([row[p1], row[p2]])[0], sorted([row[p1], row[p2]])[1] ,mutual_mins])\n",
    "#                     print([sorted([row[p1], row[p2]])[0], sorted([row[p1], row[p2]])[1] ,mutual_mins])\n",
    "            curr_seconds = row.PCTIMESTRING\n",
    "#         print('\\n')"
   ]
  },
  {
   "cell_type": "code",
   "execution_count": 73,
   "metadata": {},
   "outputs": [],
   "source": [
    "edges = pd.DataFrame(edge_list)\n",
    "edges.columns =['P1', 'P2', 'MutualTime'] \n",
    "edges = edges.groupby(['P1','P2']).sum().reset_index()"
   ]
  },
  {
   "cell_type": "code",
   "execution_count": 74,
   "metadata": {},
   "outputs": [],
   "source": [
    "edges['P1'] = edges['P1'].apply(lambda x: id_df.loc[id_df['PERSON_ID'] == x].DISPLAY_FIRST_LAST.item())\n",
    "edges['P2'] = edges['P2'].apply(lambda x: id_df.loc[id_df['PERSON_ID'] == x].DISPLAY_FIRST_LAST.item())"
   ]
  },
  {
   "cell_type": "code",
   "execution_count": 75,
   "metadata": {},
   "outputs": [
    {
     "data": {
      "image/png": "[encoded data removed]",
      "text/plain": [
       "<Figure size 432x288 with 1 Axes>"
      ]
     },
     "metadata": {},
     "output_type": "display_data"
    }
   ],
   "source": [
    "G=nx.from_pandas_edgelist(edges, 'P1', 'P2', ['MutualTime'])\n",
    "edge,weights = zip(*nx.get_edge_attributes(G,'MutualTime').items())\n",
    "pos = nx.spring_layout(G)\n",
    "nx.draw(G,with_labels=True, node_color='yellow', edge_color=weights, width=1, edge_cmap=plt.cm.Greys)"
   ]
  },
  {
   "cell_type": "markdown",
   "metadata": {},
   "source": [
    "# Creating Script\n",
    "- Substitute first line (Team Mascot)\n",
    "- Substitute boolean variable"
   ]
  },
  {
   "cell_type": "code",
   "execution_count": 76,
   "metadata": {},
   "outputs": [],
   "source": [
    "def create_network(mascot):    \n",
    "    subset = df.loc[df.HOME_TEAM.str.contains(mascot) | df.AWAY_TEAM.str.contains(mascot)]\n",
    "    subset = subset[['GAME_ID','HOMEDESCRIPTION', 'VISITORDESCRIPTION','PCTIMESTRING', 'PERIOD', 'HOME_TEAM', 'AWAY_TEAM',\n",
    "                    'HOME_PLAYER_ID_1','HOME_PLAYER_ID_2', 'HOME_PLAYER_ID_3','HOME_PLAYER_ID_4','HOME_PLAYER_ID_5'\n",
    "                 ,'AWAY_PLAYER_ID_1','AWAY_PLAYER_ID_2', 'AWAY_PLAYER_ID_3','AWAY_PLAYER_ID_4','AWAY_PLAYER_ID_5']]\n",
    "\n",
    "    edge_list = []\n",
    "    nums = 0\n",
    "    for game_id in subset['GAME_ID'].unique():\n",
    "        boolean = False\n",
    "\n",
    "        subs = subset.loc[df.GAME_ID == game_id]\n",
    "        pid = subs.iloc[0]['HOME_PLAYER_ID_1']\n",
    "        name = id_df.loc[id_df['PERSON_ID'] == pid].DISPLAY_FIRST_LAST.item()\n",
    "        home_teams = list(players.loc[players['name'] == name].team.values) \n",
    "        for i in range(len(home_teams)):\n",
    "            home_teams[i] = teams[home_teams[i]]\n",
    "        boolean = mascot in home_teams\n",
    "\n",
    "        if boolean==True:\n",
    "            new = subs[['HOMEDESCRIPTION', 'PCTIMESTRING', 'PERIOD', 'HOME_TEAM', 'HOME_PLAYER_ID_1',\n",
    "                             'HOME_PLAYER_ID_2', 'HOME_PLAYER_ID_3', 'HOME_PLAYER_ID_4', 'HOME_PLAYER_ID_5']]\n",
    "            new['PCTIMESTRING'] = new['PCTIMESTRING'].str.split(\":\").apply(lambda x: int(x[0])*60 + int(x[1]))\n",
    "            new = new[new['HOMEDESCRIPTION'].shift(-1).str.contains('SUB', na=False) |\n",
    "               new['HOMEDESCRIPTION'].str.contains('SUB', na=False)]\n",
    "            new = new[~new['HOMEDESCRIPTION'].str.contains('SUB', na=False)]\n",
    "\n",
    "            curr_seconds = 720\n",
    "            curr_period = 1\n",
    "            for row in new.itertuples():\n",
    "                if row.PERIOD > curr_period:\n",
    "                    curr_period = row.PERIOD \n",
    "                    curr_seconds = 720 \n",
    "                mutual_time = curr_seconds - row.PCTIMESTRING\n",
    "                for p1 in range(5,9):\n",
    "                    for p2 in range(p1+1, 9):\n",
    "\n",
    "                        mutual_mins = round((curr_seconds - row.PCTIMESTRING)/60, 2)\n",
    "                        edge_list.append([sorted([row[p1], row[p2]])[0], sorted([row[p1], row[p2]])[1] ,mutual_mins])\n",
    "                curr_seconds = row.PCTIMESTRING\n",
    "\n",
    "        else:\n",
    "            new = subs[['VISITORDESCRIPTION', 'PCTIMESTRING', 'PERIOD', 'AWAY_TEAM', 'AWAY_PLAYER_ID_1',\n",
    "                             'AWAY_PLAYER_ID_2', 'AWAY_PLAYER_ID_3', 'AWAY_PLAYER_ID_4', 'AWAY_PLAYER_ID_5']]\n",
    "            new['PCTIMESTRING'] = new['PCTIMESTRING'].str.split(\":\").apply(lambda x: int(x[0])*60 + int(x[1]))\n",
    "            new = new[new['VISITORDESCRIPTION'].shift(-1).str.contains('SUB', na=False) |\n",
    "                   new['VISITORDESCRIPTION'].str.contains('SUB', na=False)]\n",
    "            new = new[~new['VISITORDESCRIPTION'].str.contains('SUB', na=False)]\n",
    "\n",
    "            curr_seconds = 720\n",
    "            curr_period = 1\n",
    "            for row in new.itertuples():\n",
    "                if row.PERIOD > curr_period:\n",
    "                    curr_period = row.PERIOD \n",
    "                    curr_seconds = 720 \n",
    "                mutual_time = curr_seconds - row.PCTIMESTRING\n",
    "                for p1 in range(5,9):\n",
    "                    for p2 in range(p1+1, 9):\n",
    "                        mutual_mins = round((curr_seconds - row.PCTIMESTRING)/60, 2)\n",
    "                        edge_list.append([sorted([row[p1], row[p2]])[0], sorted([row[p1], row[p2]])[1] ,mutual_mins])\n",
    "                curr_seconds = row.PCTIMESTRING\n",
    "\n",
    "    edges = pd.DataFrame(edge_list)\n",
    "    edges.columns =['P1', 'P2', 'MutualTime'] \n",
    "    edges = edges.groupby(['P1','P2']).sum().reset_index()\n",
    "    edges['P1'] = edges['P1'].apply(lambda x: id_df.loc[id_df['PERSON_ID'] == x].DISPLAY_FIRST_LAST.item())\n",
    "    edges['P2'] = edges['P2'].apply(lambda x: id_df.loc[id_df['PERSON_ID'] == x].DISPLAY_FIRST_LAST.item())\n",
    "\n",
    "    G=nx.from_pandas_edgelist(edges, 'P1', 'P2', ['MutualTime'])\n",
    "    edge,weights = zip(*nx.get_edge_attributes(G,'MutualTime').items())\n",
    "    \n",
    "    return G"
   ]
  },
  {
   "cell_type": "code",
   "execution_count": 77,
   "metadata": {},
   "outputs": [],
   "source": [
    "warriors = create_network('Warriors')"
   ]
  },
  {
   "cell_type": "code",
   "execution_count": 78,
   "metadata": {
    "scrolled": true
   },
   "outputs": [
    {
     "name": "stdout",
     "output_type": "stream",
     "text": [
      "Name: \n",
      "Type: Graph\n",
      "Number of nodes: 16\n",
      "Number of edges: 107\n",
      "Average degree:  13.3750\n"
     ]
    }
   ],
   "source": [
    "print(nx.info(warriors))"
   ]
  },
  {
   "cell_type": "code",
   "execution_count": 79,
   "metadata": {},
   "outputs": [],
   "source": [
    "with open ('NBA_Players_2016.csv', 'r') as nodecsv:\n",
    "    nodereader = csv.reader(nodecsv)\n",
    "    nodes = [n for n in nodereader][1:]"
   ]
  },
  {
   "cell_type": "code",
   "execution_count": 80,
   "metadata": {},
   "outputs": [],
   "source": [
    "node_names = [n[0] for n in nodes]"
   ]
  },
  {
   "cell_type": "code",
   "execution_count": 81,
   "metadata": {},
   "outputs": [],
   "source": [
    "team_dict = {}\n",
    "year_dict = {}\n",
    "ppg_dict = {}\n",
    "apg_dict = {}\n",
    "rpg_dict = {}\n",
    "three_point_percentage_dict = {}\n",
    "two_point_percentage_dict = {}\n",
    "mp_dict = {}\n",
    "gp_dict = {}\n",
    "\n",
    "for node in nodes:\n",
    "    team_dict[node[0]] = node[1]\n",
    "    year_dict[node[0]] = node[2]\n",
    "    ppg_dict[node[0]] = node[3]\n",
    "    apg_dict[node[0]] = node[4]\n",
    "    rpg_dict[node[0]] = node[5]\n",
    "    three_point_percentage_dict[node[0]] = node[6]\n",
    "    two_point_percentage_dict[node[0]] = node[7]\n",
    "    mp_dict[node[0]] = node[8]\n",
    "    gp_dict[node[0]] = node[9]\n",
    "    \n",
    "nx.set_node_attributes(warriors, team_dict, 'team')\n",
    "nx.set_node_attributes(warriors, year_dict, 'year')\n",
    "nx.set_node_attributes(warriors, ppg_dict, 'ppg')\n",
    "nx.set_node_attributes(warriors, apg_dict, 'apg')\n",
    "nx.set_node_attributes(warriors, rpg_dict, 'rpg')\n",
    "nx.set_node_attributes(warriors, three_point_percentage_dict, '3P%')\n",
    "nx.set_node_attributes(warriors, two_point_percentage_dict, '2P%')\n",
    "nx.set_node_attributes(warriors, mp_dict, 'mp')\n",
    "nx.set_node_attributes(warriors, gp_dict, 'gp')\n"
   ]
  },
  {
   "cell_type": "code",
   "execution_count": 82,
   "metadata": {
    "scrolled": false
   },
   "outputs": [
    {
     "name": "stdout",
     "output_type": "stream",
     "text": [
      "Leandro Barbosa {'team': 'GSW', 'year': '2016', 'ppg': '6.4', 'apg': '1.2', 'rpg': '1.7', '3P%': '.355', '2P%': '.508', 'mp': '15.9', 'gp': '68'}\n",
      "Shaun Livingston {'team': 'GSW', 'year': '2016', 'ppg': '6.3', 'apg': '3.0', 'rpg': '2.2', '3P%': '.167', '2P%': '.548', 'mp': '19.5', 'gp': '78'}\n",
      "Andre Iguodala {'team': 'GSW', 'year': '2016', 'ppg': '7.0', 'apg': '3.4', 'rpg': '4.0', '3P%': '.351', '2P%': '.570', 'mp': '26.6', 'gp': '65'}\n",
      "Anderson Varejao {}\n",
      "Andrew Bogut {'team': 'GSW', 'year': '2016', 'ppg': '5.4', 'apg': '2.3', 'rpg': '7.0', '3P%': '1.000', '2P%': '.626', 'mp': '20.7', 'gp': '70'}\n",
      "Jason Thompson {'team': 'GSW', 'year': '2016', 'ppg': '2.1', 'apg': '0.7', 'rpg': '1.9', '3P%': '', '2P%': '.476', 'mp': '6.4', 'gp': '28'}\n",
      "Brandon Rush {'team': 'GSW', 'year': '2016', 'ppg': '4.2', 'apg': '0.8', 'rpg': '2.5', '3P%': '.414', '2P%': '.447', 'mp': '14.7', 'gp': '72'}\n",
      "Marreese Speights {'team': 'GSW', 'year': '2016', 'ppg': '7.1', 'apg': '0.8', 'rpg': '3.3', '3P%': '.387', '2P%': '.439', 'mp': '11.6', 'gp': '72'}\n",
      "Stephen Curry {'team': 'GSW', 'year': '2016', 'ppg': '30.1', 'apg': '6.7', 'rpg': '5.4', '3P%': '.454', '2P%': '.566', 'mp': '34.2', 'gp': '79'}\n",
      "Klay Thompson {'team': 'GSW', 'year': '2016', 'ppg': '22.1', 'apg': '2.1', 'rpg': '3.8', '3P%': '.425', '2P%': '.510', 'mp': '33.3', 'gp': '80'}\n",
      "Harrison Barnes {'team': 'GSW', 'year': '2016', 'ppg': '11.7', 'apg': '1.8', 'rpg': '4.9', '3P%': '.383', '2P%': '.508', 'mp': '30.9', 'gp': '66'}\n",
      "Festus Ezeli {'team': 'GSW', 'year': '2016', 'ppg': '7.0', 'apg': '0.7', 'rpg': '5.6', '3P%': '', '2P%': '.548', 'mp': '16.7', 'gp': '46'}\n",
      "Draymond Green {'team': 'GSW', 'year': '2016', 'ppg': '14.0', 'apg': '7.4', 'rpg': '9.5', '3P%': '.388', '2P%': '.537', 'mp': '34.7', 'gp': '81'}\n",
      "Ian Clark {'team': 'GSW', 'year': '2016', 'ppg': '3.6', 'apg': '1.0', 'rpg': '1.0', '3P%': '.357', '2P%': '.500', 'mp': '8.8', 'gp': '66'}\n",
      "James Michael McAdoo {'team': 'GSW', 'year': '2016', 'ppg': '2.9', 'apg': '0.4', 'rpg': '1.4', '3P%': '.500', '2P%': '.537', 'mp': '6.4', 'gp': '41'}\n",
      "Kevon Looney {'team': 'GSW', 'year': '2016', 'ppg': '1.8', 'apg': '0.0', 'rpg': '2.0', '3P%': '.500', '2P%': '.600', 'mp': '4.2', 'gp': '5'}\n"
     ]
    }
   ],
   "source": [
    "for n in warriors.nodes():\n",
    "    try:\n",
    "#         print(n, warriors.nodes[n]['ppg'], warriors.nodes[n]['apg'], warriors.nodes[n]['rpg'] )\n",
    "        print(n, warriors.nodes[n])\n",
    "    except:\n",
    "        pass"
   ]
  },
  {
   "cell_type": "markdown",
   "metadata": {},
   "source": [
    "### GCN"
   ]
  },
  {
   "cell_type": "code",
   "execution_count": 46,
   "metadata": {},
   "outputs": [],
   "source": [
    "import torch\n",
    "import torch.nn as nn\n",
    "import torch.nn.functional as F\n",
    "import networkx as nx"
   ]
  },
  {
   "cell_type": "code",
   "execution_count": null,
   "metadata": {},
   "outputs": [],
   "source": [
    "numEpochs = 25\n",
    "learningRate = 0.01"
   ]
  },
  {
   "cell_type": "code",
   "execution_count": null,
   "metadata": {},
   "outputs": [],
   "source": [
    "# Define the GCNLayer module\n",
    "class GCNLayer(nn.Module):\n",
    "    def __init__(self, in_feats, out_feats):\n",
    "        super(GCNLayer, self).__init__()\n",
    "        self.linear = nn.Linear(in_feats, out_feats)\n",
    "\n",
    "    def forward(self, g, inputs):\n",
    "        # g is the graph and the inputs is the input node features\n",
    "        # first set the node features\n",
    "        g.ndata['h'] = inputs\n",
    "        # trigger message passing on all edges\n",
    "        g.send(g.edges(), gcn_message)\n",
    "        # trigger aggregation at all nodes\n",
    "        g.recv(g.nodes(), gcn_reduce)\n",
    "        # get the result node features\n",
    "        h = g.ndata.pop('h')\n",
    "        # perform linear transformation\n",
    "        return self.linear(h)\n",
    "\n",
    "# Define a 2-layer GCN model\n",
    "class GCN(nn.Module):\n",
    "    def __init__(self, in_feats, hidden_size, num_classes):\n",
    "        super(GCN, self).__init__()\n",
    "        self.gcn1 = GCNLayer(in_feats, hidden_size)\n",
    "        self.gcn2 = GCNLayer(hidden_size, num_classes)\n",
    "\n",
    "    def forward(self, g, inputs):\n",
    "        h = self.gcn1(g, inputs)\n",
    "        h = torch.relu(h)\n",
    "        h = self.gcn2(g, h)\n",
    "        return h"
   ]
  },
  {
   "cell_type": "markdown",
   "metadata": {},
   "source": [
    "### GraphSage"
   ]
  },
  {
   "cell_type": "code",
   "execution_count": 55,
   "metadata": {},
   "outputs": [],
   "source": [
    "import torch\n",
    "import torch.nn as nn\n",
    "import torch.nn.functional as F\n",
    "from torch.nn import init\n",
    "from torch.autograd import Variable\n",
    "import torch.optim as optim\n",
    "from torchvision import datasets, transforms"
   ]
  },
  {
   "cell_type": "code",
   "execution_count": 56,
   "metadata": {},
   "outputs": [],
   "source": [
    "class SupervisedGraphSage(nn.Module):\n",
    "    def __init__(self, num_classes, enc):\n",
    "        super(SupervisedGraphSage, self).__init__()\n",
    "        self.enc = enc\n",
    "        self.xent = nn.CrossEntropyLoss()\n",
    "\n",
    "        self.weight = nn.Parameter(torch.FloatTensor(num_classes, enc.embed_dim))\n",
    "        init.xavier_uniform(self.weight)\n",
    "\n",
    "    def forward(self, nodes):\n",
    "        embeds = self.enc(nodes)\n",
    "        scores = self.weight.mm(embeds)\n",
    "        return scores.t()\n",
    "\n",
    "    def loss(self, nodes, labels):\n",
    "        scores = self.forward(nodes)\n",
    "        return self.xent(scores, labels.squeeze())"
   ]
  },
  {
   "cell_type": "code",
   "execution_count": null,
   "metadata": {},
   "outputs": [],
   "source": []
  }
 ],
 "metadata": {
  "kernelspec": {
   "display_name": "Python 3",
   "language": "python",
   "name": "python3"
  },
  "language_info": {
   "codemirror_mode": {
    "name": "ipython",
    "version": 3
   },
   "file_extension": ".py",
   "mimetype": "text/x-python",
   "name": "python",
   "nbconvert_exporter": "python",
   "pygments_lexer": "ipython3",
   "version": "3.7.6"
  }
 },
 "nbformat": 4,
 "nbformat_minor": 4
}
